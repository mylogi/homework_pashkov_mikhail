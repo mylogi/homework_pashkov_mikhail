{
 "cells": [
  {
   "cell_type": "markdown",
   "id": "234e10ed-7427-430b-ac81-9b1075042a00",
   "metadata": {},
   "source": [
    "Classes in Python: Basic information. Examples\n",
    "(Классы в Пайтоне: Основные сведения. Примеры)"
   ]
  },
  {
   "cell_type": "code",
   "execution_count": null,
   "id": "9c70d0ef-4620-48a8-b910-a1540348ce3c",
   "metadata": {},
   "outputs": [],
   "source": [
    "x = 7\n",
    "type(x)\n",
    "help(x)"
   ]
  },
  {
   "cell_type": "code",
   "execution_count": null,
   "id": "abbd2d2f-e664-4587-b11d-1e1f910aff7e",
   "metadata": {},
   "outputs": [],
   "source": [
    "isinstance(x, int)"
   ]
  },
  {
   "cell_type": "code",
   "execution_count": null,
   "id": "3043e19e-2391-43b8-a098-c86a64dfe8b9",
   "metadata": {},
   "outputs": [],
   "source": [
    "type(int)"
   ]
  },
  {
   "cell_type": "code",
   "execution_count": null,
   "id": "ffe1176b-a0e0-4468-bff7-cb5207d6955a",
   "metadata": {},
   "outputs": [],
   "source": [
    "type(type)"
   ]
  },
  {
   "cell_type": "code",
   "execution_count": null,
   "id": "cd3ff4b1-4ccd-4a15-a2c5-cff2ec61baba",
   "metadata": {},
   "outputs": [],
   "source": [
    "help(type)"
   ]
  },
  {
   "cell_type": "code",
   "execution_count": null,
   "id": "bc4bcddc-5152-4210-ac56-a34232c0c200",
   "metadata": {},
   "outputs": [],
   "source": [
    "help(int)"
   ]
  },
  {
   "cell_type": "code",
   "execution_count": null,
   "id": "d1fb6880-215b-4648-aff0-f3bc1e522524",
   "metadata": {},
   "outputs": [],
   "source": [
    "help(object)"
   ]
  },
  {
   "cell_type": "code",
   "execution_count": null,
   "id": "e7db2fea-744f-4be0-b984-a01d2f425c2c",
   "metadata": {},
   "outputs": [],
   "source": [
    "type('sample')"
   ]
  },
  {
   "cell_type": "code",
   "execution_count": null,
   "id": "7b8fdc2c-b373-4379-a304-0d8afede58ae",
   "metadata": {},
   "outputs": [],
   "source": [
    "class HouseDrawing:\n",
    "    \"\"\"example of class\"\"\"\n",
    "    def __init__(self, street, number):\n",
    "        self.street = street\n",
    "        self.number = number\n",
    "        self.age = 0\n",
    "        \n",
    "    def build(self):\n",
    "        print(f'House number {self.number} was built on {self.street} street')\n",
    "        \n",
    "    def age_of_house(self, year):\n",
    "        self.age += year"
   ]
  },
  {
   "cell_type": "code",
   "execution_count": null,
   "id": "482c591b-891d-45b9-b67e-162aab950253",
   "metadata": {},
   "outputs": [],
   "source": [
    "House_1 = HouseDrawing('Upton', 21)\n",
    "House_2 = HouseDrawing('Topaz', 13)"
   ]
  },
  {
   "cell_type": "code",
   "execution_count": null,
   "id": "f5121433-e135-43c9-845c-02cdf6aadd19",
   "metadata": {},
   "outputs": [],
   "source": [
    "print(House_1.street, House_1.number)\n",
    "print(House_2.street, House_2.number)"
   ]
  },
  {
   "cell_type": "code",
   "execution_count": null,
   "id": "ea66d38c-b8c4-44d8-a15f-3961b1042e56",
   "metadata": {},
   "outputs": [],
   "source": [
    "House_1.build()\n",
    "House_2.build()"
   ]
  },
  {
   "cell_type": "code",
   "execution_count": null,
   "id": "d69b78f2-9f81-46ff-a9d3-efa73d2f4883",
   "metadata": {},
   "outputs": [],
   "source": [
    "type(HouseDrawing)"
   ]
  },
  {
   "cell_type": "code",
   "execution_count": null,
   "id": "f65d0ad2-ca4d-482b-927b-2796bdaefd6c",
   "metadata": {},
   "outputs": [],
   "source": [
    "isinstance(HouseDrawing, object)"
   ]
  },
  {
   "cell_type": "code",
   "execution_count": null,
   "id": "f3b41f8c-00c1-4b09-b789-c0b346f98497",
   "metadata": {},
   "outputs": [],
   "source": [
    "isinstance(House_1, object)"
   ]
  },
  {
   "cell_type": "code",
   "execution_count": null,
   "id": "f2333d13-ff95-4334-a199-f98ca086693f",
   "metadata": {},
   "outputs": [],
   "source": [
    "isinstance(House_1, HouseDrawing)"
   ]
  },
  {
   "cell_type": "code",
   "execution_count": null,
   "id": "4dec8faf-faa7-411b-829d-9c7e4ebefb3d",
   "metadata": {},
   "outputs": [],
   "source": [
    "type(House_1)"
   ]
  },
  {
   "cell_type": "code",
   "execution_count": null,
   "id": "df035c9e-09ea-4070-8202-d4c42b007e5c",
   "metadata": {},
   "outputs": [],
   "source": [
    "class HouseAvenue(HouseDrawing):\n",
    "    \"\"\"example of descendant class example\"\"\"\n",
    "\n",
    "    def __init__(self, avenue, number):\n",
    "        super().__init__(self, number)\n",
    "        self.avenue = avenue"
   ]
  },
  {
   "cell_type": "code",
   "execution_count": null,
   "id": "04c8c552-eaed-4251-8061-c6bb0df4bf0e",
   "metadata": {},
   "outputs": [],
   "source": [
    "House_avenue = HouseAvenue('Loree', 22)\n",
    "print(House_avenue.avenue, House_avenue.number)"
   ]
  },
  {
   "cell_type": "code",
   "execution_count": null,
   "id": "769b74c9-8df1-403c-8256-6d106546e085",
   "metadata": {},
   "outputs": [],
   "source": [
    "House_avenue.build()"
   ]
  }
 ],
 "metadata": {
  "kernelspec": {
   "display_name": "Python 3 (ipykernel)",
   "language": "python",
   "name": "python3"
  },
  "language_info": {
   "codemirror_mode": {
    "name": "ipython",
    "version": 3
   },
   "file_extension": ".py",
   "mimetype": "text/x-python",
   "name": "python",
   "nbconvert_exporter": "python",
   "pygments_lexer": "ipython3",
   "version": "3.10.1"
  },
  "toc-autonumbering": false,
  "toc-showcode": false,
  "toc-showmarkdowntxt": false,
  "toc-showtags": false
 },
 "nbformat": 4,
 "nbformat_minor": 5
}