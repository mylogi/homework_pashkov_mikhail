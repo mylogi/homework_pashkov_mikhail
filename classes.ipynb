{
 "cells": [
  {
   "cell_type": "markdown",
   "id": "d9174c10-cccf-4367-8299-6478833125df",
   "metadata": {},
   "source": [
    "Classes in Python: Basic information. Examples\n",
    "(Классы в Пайтоне: Основные сведения. Примеры)"
   ]
  },
  {
   "cell_type": "code",
   "execution_count": 14,
   "id": "9c70d0ef-4620-48a8-b910-a1540348ce3c",
   "metadata": {},
   "outputs": [
    {
     "data": {
      "text/plain": [
       "int"
      ]
     },
     "execution_count": 14,
     "metadata": {},
     "output_type": "execute_result"
    }
   ],
   "source": [
    "x = 7\n",
    "type(x)"
   ]
  },
  {
   "cell_type": "code",
   "execution_count": 15,
   "id": "abbd2d2f-e664-4587-b11d-1e1f910aff7e",
   "metadata": {},
   "outputs": [
    {
     "data": {
      "text/plain": [
       "True"
      ]
     },
     "execution_count": 15,
     "metadata": {},
     "output_type": "execute_result"
    }
   ],
   "source": [
    "isinstance(x, int)"
   ]
  },
  {
   "cell_type": "code",
   "execution_count": 16,
   "id": "3043e19e-2391-43b8-a098-c86a64dfe8b9",
   "metadata": {},
   "outputs": [
    {
     "data": {
      "text/plain": [
       "type"
      ]
     },
     "execution_count": 16,
     "metadata": {},
     "output_type": "execute_result"
    }
   ],
   "source": [
    "type(int)"
   ]
  },
  {
   "cell_type": "code",
   "execution_count": 23,
   "id": "ffe1176b-a0e0-4468-bff7-cb5207d6955a",
   "metadata": {},
   "outputs": [
    {
     "data": {
      "text/plain": [
       "type"
      ]
     },
     "execution_count": 23,
     "metadata": {},
     "output_type": "execute_result"
    }
   ],
   "source": [
    "type(type)"
   ]
  },
  {
   "cell_type": "code",
   "execution_count": 24,
   "id": "e7db2fea-744f-4be0-b984-a01d2f425c2c",
   "metadata": {},
   "outputs": [
    {
     "data": {
      "text/plain": [
       "str"
      ]
     },
     "execution_count": 24,
     "metadata": {},
     "output_type": "execute_result"
    }
   ],
   "source": [
    "type('sample')"
   ]
  },
  {
   "cell_type": "code",
   "execution_count": 21,
   "id": "7b8fdc2c-b373-4379-a304-0d8afede58ae",
   "metadata": {},
   "outputs": [],
   "source": [
    "class HouseDrawing:\n",
    "    \"\"\"example of class\"\"\"\n",
    "    def __init__(self, street, number):\n",
    "        self.street = street\n",
    "        self.number = number\n",
    "        self.age = 0\n",
    "        \n",
    "    def build(self):\n",
    "        print(f'House number {self.number} was built on {self.street} street')\n",
    "        \n",
    "    def age_of_house(self, year):\n",
    "        self.age += year"
   ]
  },
  {
   "cell_type": "code",
   "execution_count": 10,
   "id": "482c591b-891d-45b9-b67e-162aab950253",
   "metadata": {},
   "outputs": [],
   "source": [
    "House_1 = HouseDrawing('Upton', 21)\n",
    "House_2 = HouseDrawing('Topaz', 13)"
   ]
  },
  {
   "cell_type": "code",
   "execution_count": 11,
   "id": "f5121433-e135-43c9-845c-02cdf6aadd19",
   "metadata": {},
   "outputs": [
    {
     "name": "stdout",
     "output_type": "stream",
     "text": [
      "Upton 21\n",
      "Topaz 13\n"
     ]
    }
   ],
   "source": [
    "print(House_1.street, House_1.number)\n",
    "print(House_2.street, House_2.number)"
   ]
  },
  {
   "cell_type": "code",
   "execution_count": 12,
   "id": "ea66d38c-b8c4-44d8-a15f-3961b1042e56",
   "metadata": {},
   "outputs": [
    {
     "name": "stdout",
     "output_type": "stream",
     "text": [
      "House number 21 was built on Upton street\n",
      "House number 13 was built on Topaz street\n"
     ]
    }
   ],
   "source": [
    "House_1.build()\n",
    "House_2.build()"
   ]
  },
  {
   "cell_type": "code",
   "execution_count": 18,
   "id": "d69b78f2-9f81-46ff-a9d3-efa73d2f4883",
   "metadata": {},
   "outputs": [
    {
     "data": {
      "text/plain": [
       "type"
      ]
     },
     "execution_count": 18,
     "metadata": {},
     "output_type": "execute_result"
    }
   ],
   "source": [
    "type(HouseDrawing)"
   ]
  },
  {
   "cell_type": "code",
   "execution_count": 19,
   "id": "f3b41f8c-00c1-4b09-b789-c0b346f98497",
   "metadata": {},
   "outputs": [
    {
     "data": {
      "text/plain": [
       "True"
      ]
     },
     "execution_count": 19,
     "metadata": {},
     "output_type": "execute_result"
    }
   ],
   "source": [
    "isinstance(House_1, object)"
   ]
  },
  {
   "cell_type": "code",
   "execution_count": 22,
   "id": "4dec8faf-faa7-411b-829d-9c7e4ebefb3d",
   "metadata": {},
   "outputs": [
    {
     "data": {
      "text/plain": [
       "__main__.HouseDrawing"
      ]
     },
     "execution_count": 22,
     "metadata": {},
     "output_type": "execute_result"
    }
   ],
   "source": [
    "type(House_1)"
   ]
  },
  {
   "cell_type": "code",
   "execution_count": 26,
   "id": "df035c9e-09ea-4070-8202-d4c42b007e5c",
   "metadata": {},
   "outputs": [],
   "source": [
    "class HouseAvenue(HouseDrawing):\n",
    "    \"\"\"example of descendant class example\"\"\"\n",
    "\n",
    "    def __init__(self, avenue, number):\n",
    "        super().__init__(self, number)\n",
    "        self.avenue = avenue"
   ]
  },
  {
   "cell_type": "code",
   "execution_count": 27,
   "id": "04c8c552-eaed-4251-8061-c6bb0df4bf0e",
   "metadata": {},
   "outputs": [
    {
     "name": "stdout",
     "output_type": "stream",
     "text": [
      "Loree 22\n"
     ]
    }
   ],
   "source": [
    "House_avenue = HouseAvenue('Loree', 22)\n",
    "print(House_avenue.avenue, House_avenue.number)"
   ]
  },
  {
   "cell_type": "code",
   "execution_count": 28,
   "id": "769b74c9-8df1-403c-8256-6d106546e085",
   "metadata": {},
   "outputs": [
    {
     "name": "stdout",
     "output_type": "stream",
     "text": [
      "House number 22 was built on <__main__.HouseAvenue object at 0x000002A37EED9360> street\n"
     ]
    }
   ],
   "source": [
    "House_avenue.build()"
   ]
  },
  {
   "cell_type": "code",
   "execution_count": null,
   "id": "84d64a21-c11a-4328-b91e-c1663bb524fe",
   "metadata": {},
   "outputs": [],
   "source": []
  }
 ],
 "metadata": {
  "kernelspec": {
   "display_name": "Python 3 (ipykernel)",
   "language": "python",
   "name": "python3"
  },
  "language_info": {
   "codemirror_mode": {
    "name": "ipython",
    "version": 3
   },
   "file_extension": ".py",
   "mimetype": "text/x-python",
   "name": "python",
   "nbconvert_exporter": "python",
   "pygments_lexer": "ipython3",
   "version": "3.10.1"
  },
  "toc-autonumbering": false,
  "toc-showcode": false,
  "toc-showmarkdowntxt": false,
  "toc-showtags": false
 },
 "nbformat": 4,
 "nbformat_minor": 5
}